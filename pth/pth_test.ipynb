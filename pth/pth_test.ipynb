{
 "cells": [
  {
   "cell_type": "code",
   "execution_count": 4,
   "metadata": {},
   "outputs": [],
   "source": [
    "import sys\n",
    "import os\n",
    "sys.path.append(os.path.abspath('../Models'))"
   ]
  },
  {
   "cell_type": "code",
   "execution_count": 5,
   "metadata": {},
   "outputs": [],
   "source": [
    "import torch\n",
    "from PIL import Image\n",
    "import torchvision.transforms as transforms\n",
    "from model_base import FashionCNN\n",
    "import matplotlib.pyplot as plt"
   ]
  },
  {
   "cell_type": "code",
   "execution_count": 14,
   "metadata": {},
   "outputs": [],
   "source": [
    "def test_single_image(image_path, model_path):\n",
    "    # Label mapping\n",
    "    labels = ['Bags', 'Bottomwear', 'Dress', 'Headwear', 'Shoes', 'Topwear', 'Watches']\n",
    "    \n",
    "    # Set device\n",
    "    device = torch.device(\"cuda\" if torch.cuda.is_available() else \"cpu\")\n",
    "    \n",
    "    # Load model\n",
    "    model = FashionCNN(7).to(device)\n",
    "    model.load_state_dict(torch.load(model_path, map_location=device)['model_state'])\n",
    "    model.eval()\n",
    "    \n",
    "    # Prepare image preprocessing\n",
    "    transform = transforms.Compose([\n",
    "        transforms.Resize((177, 177)),\n",
    "        transforms.ToTensor(),\n",
    "    ])\n",
    "    \n",
    "    # Load and preprocess image\n",
    "    image = Image.open(image_path)\n",
    "    image = transform(image).unsqueeze(0).to(device)  # Add batch dimension\n",
    "    \n",
    "    # Inference\n",
    "    with torch.no_grad():\n",
    "        outputs = model(image)\n",
    "        probabilities = torch.softmax(outputs, dim=1)[0]\n",
    "    \n",
    "    # Print results\n",
    "    print(f\"\\nResults for image: {image_path}\")\n",
    "    print(\"-\" * 50)\n",
    "    for label, prob in zip(labels, probabilities):\n",
    "        percentage = prob.item() * 100\n",
    "        print(f\"{label:<15} : {percentage:.2f}%\")\n",
    "    \n",
    "    # Get predicted class\n",
    "    predicted_class = labels[probabilities.argmax().item()]\n",
    "    print(f\"\\nPredicted class: {predicted_class}\")"
   ]
  },
  {
   "cell_type": "code",
   "execution_count": 17,
   "metadata": {},
   "outputs": [
    {
     "name": "stdout",
     "output_type": "stream",
     "text": [
      "\n",
      "Results for image: ../Dataset/Dress/dress0223.jpg\n",
      "--------------------------------------------------\n",
      "Bags            : 0.00%\n",
      "Bottomwear      : 0.00%\n",
      "Dress           : 100.00%\n",
      "Headwear        : 0.00%\n",
      "Shoes           : 0.00%\n",
      "Topwear         : 0.00%\n",
      "Watches         : 0.00%\n",
      "\n",
      "Predicted class: Dress\n"
     ]
    }
   ],
   "source": [
    "image_path = \"../Dataset/Dress/dress0223.jpg\" #Cari direktori gambar yang mau di tes\n",
    "model_path = \"../Models/runs/FashionClassification-FashionCNN-41/best_checkpoint.pth\"\n",
    "\n",
    "test_single_image(image_path, model_path)"
   ]
  }
 ],
 "metadata": {
  "kernelspec": {
   "display_name": "Python 3.11.2 64-bit",
   "language": "python",
   "name": "python3"
  },
  "language_info": {
   "codemirror_mode": {
    "name": "ipython",
    "version": 3
   },
   "file_extension": ".py",
   "mimetype": "text/x-python",
   "name": "python",
   "nbconvert_exporter": "python",
   "pygments_lexer": "ipython3",
   "version": "3.11.2"
  },
  "orig_nbformat": 4,
  "vscode": {
   "interpreter": {
    "hash": "d3b1513fdab4bcd8f289ce12624a32d64741c58950fc8fc0817777724131b442"
   }
  }
 },
 "nbformat": 4,
 "nbformat_minor": 2
}
