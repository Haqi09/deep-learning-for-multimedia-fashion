{
 "cells": [
  {
   "cell_type": "code",
   "execution_count": 1,
   "metadata": {},
   "outputs": [],
   "source": [
    "import onnxruntime as ort\n",
    "import numpy as np\n",
    "from PIL import Image\n",
    "import torchvision.transforms as transforms\n",
    "import os"
   ]
  },
  {
   "cell_type": "code",
   "execution_count": 2,
   "metadata": {},
   "outputs": [],
   "source": [
    "def test_onnx_model(image_path):\n",
    "    # Label mapping\n",
    "    labels = ['Bags', 'Bottomwear', 'Dress', 'Headwear', 'Shoes', 'Topwear', 'Watches']\n",
    "    \n",
    "    # Load and initialize ONNX model\n",
    "    session = ort.InferenceSession(\"fashion_model.onnx\")\n",
    "    \n",
    "    # Prepare image preprocessing\n",
    "    transform = transforms.Compose([\n",
    "        transforms.Resize((177, 177)),\n",
    "        transforms.ToTensor(),\n",
    "    ])\n",
    "    \n",
    "    # Load and preprocess image\n",
    "    image = Image.open(image_path)\n",
    "    image = transform(image).unsqueeze(0)  # Add batch dimension\n",
    "    input_data = image.numpy()\n",
    "    \n",
    "    # Get input name\n",
    "    input_name = session.get_inputs()[0].name\n",
    "    \n",
    "    # Run inference\n",
    "    outputs = session.run(None, {input_name: input_data})\n",
    "    \n",
    "    # Convert outputs to probabilities\n",
    "    probabilities = softmax(outputs[0][0])\n",
    "    \n",
    "    # Print results\n",
    "    print(f\"\\nResults for image: {os.path.basename(image_path)}\")\n",
    "    print(\"-\" * 50)\n",
    "    for label, prob in zip(labels, probabilities):\n",
    "        percentage = prob * 100\n",
    "        print(f\"{label:<15} : {percentage:.2f}%\")\n",
    "\n",
    "def softmax(x):\n",
    "    exp_x = np.exp(x - np.max(x))\n",
    "    return exp_x / exp_x.sum()"
   ]
  },
  {
   "cell_type": "code",
   "execution_count": 14,
   "metadata": {},
   "outputs": [
    {
     "name": "stdout",
     "output_type": "stream",
     "text": [
      "\n",
      "Results for image: shoes5811.jpg\n",
      "--------------------------------------------------\n",
      "Bags            : 0.54%\n",
      "Bottomwear      : 0.60%\n",
      "Dress           : 58.17%\n",
      "Headwear        : 0.65%\n",
      "Shoes           : 0.56%\n",
      "Topwear         : 39.44%\n",
      "Watches         : 0.05%\n"
     ]
    }
   ],
   "source": [
    "test_images = [\n",
    "    \"../Dataset/Shoes/shoes5811.jpg\", #Cari direktori gambar yang mau di tes\n",
    "]\n",
    "\n",
    "for image_path in test_images:\n",
    "    test_onnx_model(image_path)"
   ]
  }
 ],
 "metadata": {
  "kernelspec": {
   "display_name": "Python 3.11.2 64-bit",
   "language": "python",
   "name": "python3"
  },
  "language_info": {
   "codemirror_mode": {
    "name": "ipython",
    "version": 3
   },
   "file_extension": ".py",
   "mimetype": "text/x-python",
   "name": "python",
   "nbconvert_exporter": "python",
   "pygments_lexer": "ipython3",
   "version": "3.11.2"
  },
  "orig_nbformat": 4,
  "vscode": {
   "interpreter": {
    "hash": "d3b1513fdab4bcd8f289ce12624a32d64741c58950fc8fc0817777724131b442"
   }
  }
 },
 "nbformat": 4,
 "nbformat_minor": 2
}
